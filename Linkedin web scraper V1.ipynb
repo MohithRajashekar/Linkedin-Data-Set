{
 "cells": [
  {
   "cell_type": "markdown",
   "id": "6b4594f1",
   "metadata": {},
   "source": [
    "# Linkedin web scraper"
   ]
  },
  {
   "cell_type": "markdown",
   "id": "b7569f80",
   "metadata": {},
   "source": [
    "## Getting Started"
   ]
  },
  {
   "cell_type": "markdown",
   "id": "9f2d3fa3",
   "metadata": {},
   "source": [
    "Check chrome version\n",
    "menu>help>about google chrome"
   ]
  },
  {
   "cell_type": "markdown",
   "id": "94f9b3e0",
   "metadata": {},
   "source": [
    "Go to https://chromedriver.chromium.org/downloads and download the particular software for your pc setting"
   ]
  },
  {
   "cell_type": "markdown",
   "id": "fbd17276",
   "metadata": {},
   "source": [
    "extract and paste the file in the location where you've installed jupyter notebook"
   ]
  },
  {
   "cell_type": "markdown",
   "id": "cb8b96f7",
   "metadata": {},
   "source": [
    "or just try pip install selenium"
   ]
  },
  {
   "cell_type": "markdown",
   "id": "a9259d02",
   "metadata": {},
   "source": [
    "## CODING"
   ]
  },
  {
   "cell_type": "code",
   "execution_count": 1,
   "id": "69ba2e3d",
   "metadata": {},
   "outputs": [],
   "source": [
    "import pandas as pd\n",
    "import re\n",
    "import selenium   #import selenium and then webdriver otherwise you will get an error \n",
    "from selenium import webdriver\n",
    "from selenium.webdriver.common.keys import Keys"
   ]
  },
  {
   "cell_type": "code",
   "execution_count": 2,
   "id": "11e323b0",
   "metadata": {},
   "outputs": [],
   "source": [
    "browser=webdriver.Chrome(\"chromedriver.exe\") #please note 'c' in Chrome must be uppercase\n",
    "browser.get(\"https://www.linkedin.com\")"
   ]
  },
  {
   "cell_type": "markdown",
   "id": "317b3297",
   "metadata": {},
   "source": [
    "- opens a new chrome tab \n",
    "- the difference is this tab was called by python because of the lines of code written above"
   ]
  },
  {
   "cell_type": "code",
   "execution_count": 3,
   "id": "9811b15b",
   "metadata": {},
   "outputs": [],
   "source": [
    "username=browser.find_element_by_id('session_key')\n",
    "username.send_keys('xxxxxxxxxxx@gmail.com')\n",
    "password=browser.find_element_by_id('session_password')\n",
    "password.send_keys('xxxxxxxxxx')"
   ]
  },
  {
   "cell_type": "markdown",
   "id": "199d1a81",
   "metadata": {},
   "source": [
    "- This is the code to enter your login credentials into the linkedin login tab\n",
    "- Replace your_ID and your_pw with you guessed it your own credentials"
   ]
  },
  {
   "cell_type": "code",
   "execution_count": 4,
   "id": "27a2fabf",
   "metadata": {},
   "outputs": [],
   "source": [
    "login_button=browser.find_element_by_class_name('sign-in-form__submit-button')\n",
    "login_button.click()"
   ]
  },
  {
   "cell_type": "markdown",
   "id": "26d4e38f",
   "metadata": {},
   "source": [
    "- This should get you logged in to your account\n",
    "- Python recreates the action of you manually clicking by itself"
   ]
  },
  {
   "cell_type": "code",
   "execution_count": 7,
   "id": "03d85900",
   "metadata": {},
   "outputs": [],
   "source": [
    "browser.get('https://www.linkedin.com/jobs/search/?geoId=102713980&keywords=data%20science&location=India&start=0')"
   ]
  },
  {
   "cell_type": "markdown",
   "id": "18e2cef8",
   "metadata": {},
   "source": [
    "- gets url from browser to perform actions"
   ]
  },
  {
   "cell_type": "code",
   "execution_count": 19,
   "id": "d65e2d7c",
   "metadata": {
    "scrolled": true
   },
   "outputs": [
    {
     "name": "stdout",
     "output_type": "stream",
     "text": [
      "['Team Lead/Consultant-Data Science', 'Team Lead/Consultant-Data Science', 'Team Lead/Consultant-Data Science', 'Summer training and internship', 'Summer training and internship', 'Community Manager', 'Data Science Intern', 'Associate QA Analyst', 'Analyst-Data Science', 'Associate-Data Science', 'Analyst-Data Science', 'Team Lead/Consultant-Data Science', 'Team Lead/Consultant-Data Science', 'Senior Analyst-Data Science', 'Data Science Manager, Pricing/Automation', 'Data Engineer (New Grad) - India UHR', 'Python Trainer', 'Analyst', 'Data Analyst', 'Data Analyst', 'Team Lead/Consultant-Data Science', 'Trainee Associate', 'Trainee Associate', 'Applied Scientist', 'Data Analyst']\n",
      "\n",
      "25\n"
     ]
    }
   ],
   "source": [
    "job=browser.find_elements_by_class_name('job-card-list__title')\n",
    "jobt=[]                                                             #empty container 'job title'=jobt\n",
    "for i in job:                                                     #iteration to hold and append the text in container jobt\n",
    "    jobt.append(i.text)\n",
    "print(jobt)\n",
    "print()\n",
    "print(len(jobt))"
   ]
  },
  {
   "cell_type": "markdown",
   "id": "68b0fe13",
   "metadata": {},
   "source": [
    "- scrapes job title stored as 'job-card-list__title' on the web page\n",
    "- prints all the values of container at the end of iteration and the length of the container"
   ]
  },
  {
   "cell_type": "code",
   "execution_count": 30,
   "id": "7cca595e",
   "metadata": {
    "scrolled": true
   },
   "outputs": [
    {
     "name": "stdout",
     "output_type": "stream",
     "text": [
      "['Accenture in India', 'Accenture in India', 'Accenture in India', 'SkillVertex', 'SkillVertex', 'AllThingsConnected', 'Workskills', 'IQVIA', 'Accenture in India', 'Accenture in India', 'Accenture in India', 'Accenture in India', 'Accenture in India', 'Accenture in India', 'PayPal', 'Cisco', 'Miles Education', 'IQVIA', 'Myntra', 'Myntra', 'Accenture in India', 'ICE', 'ICE', 'Flipkart', 'Uber']\n",
      "\n",
      "25\n"
     ]
    }
   ],
   "source": [
    "job2=browser.find_elements_by_class_name('job-card-container__company-name')\n",
    "compname=[]\n",
    "for i in job2:\n",
    "    compname.append(i.text)\n",
    "print(compname)\n",
    "print()\n",
    "print(len(compname))"
   ]
  },
  {
   "cell_type": "markdown",
   "id": "b7add606",
   "metadata": {},
   "source": [
    "- performs same actions as above but for 'job-card-container__company-name' to get company names"
   ]
  },
  {
   "cell_type": "code",
   "execution_count": 27,
   "id": "9c4559b2",
   "metadata": {
    "scrolled": false
   },
   "outputs": [
    {
     "name": "stdout",
     "output_type": "stream",
     "text": [
      "['Bengaluru, Karnataka, India', 'Bengaluru, Karnataka, India', 'Bengaluru, Karnataka, India', 'Bengaluru, Karnataka, India', 'Pune, Maharashtra, India', 'India', 'Remote', 'Bangalore Urban, Karnataka, India', 'Remote', 'Bengaluru, Karnataka, India', 'Bengaluru, Karnataka, India', 'Bengaluru, Karnataka, India', 'Bengaluru, Karnataka, India', 'Bengaluru, Karnataka, India', 'Bengaluru, Karnataka, India', 'Bengaluru, Karnataka, India', 'Chennai, Tamil Nadu, India', 'Bengaluru, Karnataka, India', 'Bangalore Urban, Karnataka, India', 'Bengaluru, Karnataka, India', 'Bengaluru, Karnataka, India', 'Bengaluru, Karnataka, India', 'Bengaluru, Karnataka, India', 'Hyderabad, Telangana, India', 'Hyderabad, Telangana, India', 'Bengaluru, Karnataka, India', 'Bengaluru, Karnataka, India']\n",
      "\n",
      "27\n"
     ]
    }
   ],
   "source": [
    "job3=browser.find_elements_by_class_name('job-card-container__metadata-item')\n",
    "location=[]\n",
    "for i in job3:\n",
    "    location.append(i.text)\n",
    "print(location)\n",
    "print()\n",
    "print(len(location))"
   ]
  },
  {
   "cell_type": "markdown",
   "id": "0a8bb406",
   "metadata": {},
   "source": [
    "- performs same actions as above but for 'job-card-container__metadata-item' to get location"
   ]
  },
  {
   "cell_type": "code",
   "execution_count": 33,
   "id": "8c4b9509",
   "metadata": {
    "scrolled": true
   },
   "outputs": [
    {
     "data": {
      "text/html": [
       "<div>\n",
       "<style scoped>\n",
       "    .dataframe tbody tr th:only-of-type {\n",
       "        vertical-align: middle;\n",
       "    }\n",
       "\n",
       "    .dataframe tbody tr th {\n",
       "        vertical-align: top;\n",
       "    }\n",
       "\n",
       "    .dataframe thead th {\n",
       "        text-align: right;\n",
       "    }\n",
       "</style>\n",
       "<table border=\"1\" class=\"dataframe\">\n",
       "  <thead>\n",
       "    <tr style=\"text-align: right;\">\n",
       "      <th></th>\n",
       "      <th>job title</th>\n",
       "      <th>companyname</th>\n",
       "      <th>location</th>\n",
       "    </tr>\n",
       "  </thead>\n",
       "  <tbody>\n",
       "    <tr>\n",
       "      <th>0</th>\n",
       "      <td>Team Lead/Consultant-Data Science</td>\n",
       "      <td>Accenture in India</td>\n",
       "      <td>Bengaluru, Karnataka, India</td>\n",
       "    </tr>\n",
       "    <tr>\n",
       "      <th>1</th>\n",
       "      <td>Team Lead/Consultant-Data Science</td>\n",
       "      <td>Accenture in India</td>\n",
       "      <td>Bengaluru, Karnataka, India</td>\n",
       "    </tr>\n",
       "    <tr>\n",
       "      <th>2</th>\n",
       "      <td>Team Lead/Consultant-Data Science</td>\n",
       "      <td>Accenture in India</td>\n",
       "      <td>Bengaluru, Karnataka, India</td>\n",
       "    </tr>\n",
       "    <tr>\n",
       "      <th>3</th>\n",
       "      <td>Summer training and internship</td>\n",
       "      <td>SkillVertex</td>\n",
       "      <td>Bengaluru, Karnataka, India</td>\n",
       "    </tr>\n",
       "    <tr>\n",
       "      <th>4</th>\n",
       "      <td>Summer training and internship</td>\n",
       "      <td>SkillVertex</td>\n",
       "      <td>Bengaluru, Karnataka, India</td>\n",
       "    </tr>\n",
       "  </tbody>\n",
       "</table>\n",
       "</div>"
      ],
      "text/plain": [
       "                           job title         companyname  \\\n",
       "0  Team Lead/Consultant-Data Science  Accenture in India   \n",
       "1  Team Lead/Consultant-Data Science  Accenture in India   \n",
       "2  Team Lead/Consultant-Data Science  Accenture in India   \n",
       "3     Summer training and internship         SkillVertex   \n",
       "4     Summer training and internship         SkillVertex   \n",
       "\n",
       "                      location  \n",
       "0  Bengaluru, Karnataka, India  \n",
       "1  Bengaluru, Karnataka, India  \n",
       "2  Bengaluru, Karnataka, India  \n",
       "3  Bengaluru, Karnataka, India  \n",
       "4  Bengaluru, Karnataka, India  "
      ]
     },
     "execution_count": 33,
     "metadata": {},
     "output_type": "execute_result"
    }
   ],
   "source": [
    "\n",
    "df=pd.DataFrame({'job title':jobt,\n",
    "                 'companyname':compname,\n",
    "                 'location':location[25]})\n",
    "df.head()"
   ]
  },
  {
   "cell_type": "markdown",
   "id": "692208e4",
   "metadata": {},
   "source": [
    "- Create a dataframe with 3 columns and print the first 5 values with .head()"
   ]
  },
  {
   "cell_type": "code",
   "execution_count": 34,
   "id": "24b4a726",
   "metadata": {},
   "outputs": [],
   "source": [
    "df.to_csv('linkedin_scrapejob1.csv')"
   ]
  },
  {
   "cell_type": "markdown",
   "id": "4e554159",
   "metadata": {},
   "source": [
    "- Save to an excel comma seperated value type file and perform all further data exploration "
   ]
  }
 ],
 "metadata": {
  "interpreter": {
   "hash": "0cf576966056523116ab48a0c9285600e359fe8c8804d405a291d03b38f01304"
  },
  "kernelspec": {
   "display_name": "Python 3",
   "language": "python",
   "name": "python3"
  },
  "language_info": {
   "codemirror_mode": {
    "name": "ipython",
    "version": 3
   },
   "file_extension": ".py",
   "mimetype": "text/x-python",
   "name": "python",
   "nbconvert_exporter": "python",
   "pygments_lexer": "ipython3",
   "version": "3.8.8"
  }
 },
 "nbformat": 4,
 "nbformat_minor": 5
}
